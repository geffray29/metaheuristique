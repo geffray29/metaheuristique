{
 "cells": [
  {
   "cell_type": "code",
   "execution_count": 2,
   "metadata": {},
   "outputs": [],
   "source": [
    "##metaheuristique\n",
    "import numpy as np\n",
    "import requests\n"
   ]
  },
  {
   "cell_type": "code",
   "execution_count": 3,
   "metadata": {},
   "outputs": [
    {
     "name": "stdout",
     "output_type": "stream",
     "text": [
      "Ligne 1:           10\n",
      "Ligne 2:            2\n",
      "Ligne 3:            3\n",
      "Ligne 4:            1\n",
      "Ligne 5:            3\n",
      "Ligne 6:            5\n",
      "Ligne 7:            1\n",
      "Ligne 8:            4\n",
      "Ligne 9:            4\n",
      "Ligne 10:            1\n"
     ]
    }
   ],
   "source": [
    "\n",
    "url = \"https://people.brunel.ac.uk/~mastjjb/jeb/orlib/files/CCNFP10g1a.txt\"\n",
    "\n",
    "try:\n",
    "    response = requests.get(url)\n",
    "    response.raise_for_status()  # Vérifie qu'il n'y a pas d'erreur HTTP\n",
    "    contenu_texte = response.text\n",
    "    \n",
    "    # Affiche les premières lignes du fichier\n",
    "    lignes = contenu_texte.splitlines()\n",
    "    for i, ligne in enumerate(lignes[:10]):  # Par exemple, afficher 10 lignes\n",
    "        print(f\"Ligne {i+1}: {ligne}\")\n",
    "\n",
    "except requests.exceptions.RequestException as e:\n",
    "    print(f\"Erreur lors de l'ouverture de l'URL : {e}\")"
   ]
  },
  {
   "cell_type": "code",
   "execution_count": 4,
   "metadata": {},
   "outputs": [],
   "source": [
    "base_url = \"https://people.brunel.ac.uk/~mastjjb/jeb/orlib/files/CCNFP10g\"\n",
    "\n",
    "\n",
    "for i in range(10):\n",
    "    url = base_url + str(i+1) + \".txt\"\n",
    "    try:\n",
    "        response = requests.get(url)\n",
    "        response.raise_for_status()  # Vérifie qu'il n'y a pas d'erreur HTTP\n",
    "        contenu_texte = response.text\n",
    "\n",
    "        with open(\"CCNFP10g\" + str(i+1) + \".txt\", \"w\") as fichier:\n",
    "            fichier.write(contenu_texte)\n",
    "\n",
    "\n",
    "    except requests.exceptions.RequestException as e:\n",
    "        print(f\"Erreur lors de l'ouverture de l'URL : {e}\")\n",
    "    \n",
    "    "
   ]
  }
 ],
 "metadata": {
  "kernelspec": {
   "display_name": "Python 3",
   "language": "python",
   "name": "python3"
  },
  "language_info": {
   "codemirror_mode": {
    "name": "ipython",
    "version": 3
   },
   "file_extension": ".py",
   "mimetype": "text/x-python",
   "name": "python",
   "nbconvert_exporter": "python",
   "pygments_lexer": "ipython3",
   "version": "3.11.9"
  }
 },
 "nbformat": 4,
 "nbformat_minor": 2
}
