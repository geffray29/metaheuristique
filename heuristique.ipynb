{
 "cells": [
  {
   "cell_type": "code",
   "execution_count": 1,
   "metadata": {},
   "outputs": [],
   "source": [
    "##metaheuristique\n",
    "import numpy as np\n",
    "import requests\n"
   ]
  },
  {
   "cell_type": "code",
   "execution_count": 6,
   "metadata": {},
   "outputs": [],
   "source": [
    "\n",
    "url = \"https://people.brunel.ac.uk/~mastjjb/jeb/orlib/files/mknap1.txt\"\n",
    "\n",
    "try:\n",
    "    response = requests.get(url)\n",
    "    response.raise_for_status()  # Vérifie qu'il n'y a pas d'erreur HTTP\n",
    "    contenu_texte = response.text\n",
    "    \n",
    "    with open(\"mknap1.txt\", \"w\") as fichier:\n",
    "            fichier.write(contenu_texte)\n",
    "\n",
    "except requests.exceptions.RequestException as e:\n",
    "    print(f\"Erreur lors de l'ouverture de l'URL : {e}\")"
   ]
  },
  {
   "cell_type": "code",
   "execution_count": 5,
   "metadata": {},
   "outputs": [],
   "source": [
    "base_url = \"https://people.brunel.ac.uk/~mastjjb/jeb/orlib/files/mknapcb\"\n",
    "\n",
    "\n",
    "for i in range(9):\n",
    "    url = base_url + str(i+1) + \".txt\"\n",
    "    try:\n",
    "        response = requests.get(url)\n",
    "        response.raise_for_status()  # Vérifie qu'il n'y a pas d'erreur HTTP\n",
    "        contenu_texte = response.text\n",
    "\n",
    "        with open(\"mknapcb\" + str(i+1) + \".txt\", \"w\") as fichier:\n",
    "            fichier.write(contenu_texte)\n",
    "\n",
    "\n",
    "    except requests.exceptions.RequestException as e:\n",
    "        print(f\"Erreur lors de l'ouverture de l'URL : {e}\")\n",
    "    \n",
    "    "
   ]
  }
 ],
 "metadata": {
  "kernelspec": {
   "display_name": "Python 3",
   "language": "python",
   "name": "python3"
  },
  "language_info": {
   "codemirror_mode": {
    "name": "ipython",
    "version": 3
   },
   "file_extension": ".py",
   "mimetype": "text/x-python",
   "name": "python",
   "nbconvert_exporter": "python",
   "pygments_lexer": "ipython3",
   "version": "3.11.9"
  }
 },
 "nbformat": 4,
 "nbformat_minor": 2
}
