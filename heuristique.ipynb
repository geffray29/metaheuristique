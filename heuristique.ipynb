{
 "cells": [
  {
   "cell_type": "code",
   "execution_count": 1,
   "metadata": {},
   "outputs": [],
   "source": [
    "##metaheuristique\n",
    "import numpy as np\n",
    "import requests\n"
   ]
  },
  {
   "cell_type": "code",
   "execution_count": 5,
   "metadata": {},
   "outputs": [],
   "source": [
    "base_url = \"https://people.brunel.ac.uk/~mastjjb/jeb/orlib/files/mknapcb\"\n",
    "\n",
    "\n",
    "for i in range(9):\n",
    "    url = base_url + str(i+1) + \".txt\"\n",
    "    try:\n",
    "        response = requests.get(url)\n",
    "        response.raise_for_status()  # Vérifie qu'il n'y a pas d'erreur HTTP\n",
    "        contenu_texte = response.text\n",
    "\n",
    "        with open(\"mknapcb\" + str(i+1) + \".txt\", \"w\") as fichier:\n",
    "            fichier.write(contenu_texte)\n",
    "\n",
    "\n",
    "    except requests.exceptions.RequestException as e:\n",
    "        print(f\"Erreur lors de l'ouverture de l'URL : {e}\")"
   ]
  },
  {
   "cell_type": "code",
   "execution_count": 97,
   "metadata": {},
   "outputs": [],
   "source": [
    "def extract_data(mon_fichier):\n",
    "    with open(mon_fichier, \"r\") as fichier:\n",
    "        contenu = fichier.read()\n",
    "        contenu = contenu.split()\n",
    "        #print(contenu)\n",
    "        nb_instances = int(contenu[0])\n",
    "        #print(nb_instances)\n",
    "        instances = {}\n",
    "        compteur = 1\n",
    "        for i in range(1,nb_instances):\n",
    "            elements = contenu[compteur:]\n",
    "            n  = int(elements[0])\n",
    "            #print(n)\n",
    "            m = int(elements[1])\n",
    "            #print(m)\n",
    "            val_opt = float(elements[2])\n",
    "            cost = np.array([float(elements[e]) for e in range(3,3+n)])\n",
    "            #print(cost)\n",
    "            a = np.array([int(elements[e]) for e in range(3+n,3+n+n*m)])\n",
    "            a = a.reshape(m,n)\n",
    "            b = np.array([int(elements[e]) for e in range(3+n*m,3+n*m+m)])\n",
    "            instances[i] = {}\n",
    "            instances[i][\"Nb projet\"] = n\n",
    "            instances[i][\"Nb ressource\"] = m\n",
    "            instances[i][\"Valeur optimale\"] = val_opt\n",
    "            instances[i][\"cost\"] = cost\n",
    "            instances[i][\"A\"] = a\n",
    "            instances[i][\"B\"] = b\n",
    "            compteur += 3+n+m*n+m\n",
    "        return nb_instances, instances"
   ]
  },
  {
   "cell_type": "code",
   "execution_count": 102,
   "metadata": {},
   "outputs": [
    {
     "data": {
      "text/plain": [
       "5"
      ]
     },
     "execution_count": 102,
     "metadata": {},
     "output_type": "execute_result"
    }
   ],
   "source": [
    "mon_fichier = \"C:/Users/Thibaud/3A/metaheuristique/Data/mknapcb1.txt\"\n",
    "nb_instances, instances = extract_data(mon_fichier)\n",
    "\n",
    "a = instances[1][\"A\"]\n",
    "cost = instances[1][\"Nb ressource\"]\n",
    "cost\n"
   ]
  },
  {
   "cell_type": "code",
   "execution_count": 115,
   "metadata": {},
   "outputs": [],
   "source": [
    "def heuristique_sac_a_dos(n, m, cost, a, b):\n",
    "    x= np.zeros(n)\n",
    "    b_prime = np.sum(b) #somme des ressources\n",
    "    #print(b)\n",
    "    a_prime= np.sum(a, axis=0) #somme des ressources nécessaires pour chaque projet\n",
    "    #print(a)\n",
    "    y = -cost/a_prime #signe - pour trier dans l'ordre décroissant\n",
    "    #print(y)\n",
    "    indices =y.argsort()\n",
    "    #print(indices)\n",
    "    ressource = 0\n",
    "    index = []\n",
    "    for i in indices:\n",
    "        if ressource + a_prime[i] <= b_prime:\n",
    "            x[i] = 1\n",
    "            ressource += a_prime[i]\n",
    "            index.append(i) \n",
    "    #verification solution réalisable\n",
    "    last_index = index[-1]\n",
    "    while any(np.dot(a, x) > b):\n",
    "        x[last_index] = 0\n",
    "        index.pop()\n",
    "\n",
    "    return x"
   ]
  },
  {
   "cell_type": "code",
   "execution_count": 116,
   "metadata": {},
   "outputs": [
    {
     "data": {
      "text/plain": [
       "array([0., 0., 0., 1.])"
      ]
     },
     "execution_count": 116,
     "metadata": {},
     "output_type": "execute_result"
    }
   ],
   "source": [
    "c = np.array([1,1,5,3])\n",
    "a = np.array([[1,1,1,1],[2,1,3,1]])\n",
    "b= np.array([1,4])\n",
    "n=4\n",
    "m=2\n",
    "\n",
    "heuristique_sac_a_dos(n, m, c, a, b)"
   ]
  }
 ],
 "metadata": {
  "kernelspec": {
   "display_name": "Python 3",
   "language": "python",
   "name": "python3"
  },
  "language_info": {
   "codemirror_mode": {
    "name": "ipython",
    "version": 3
   },
   "file_extension": ".py",
   "mimetype": "text/x-python",
   "name": "python",
   "nbconvert_exporter": "python",
   "pygments_lexer": "ipython3",
   "version": "3.11.9"
  }
 },
 "nbformat": 4,
 "nbformat_minor": 2
}
