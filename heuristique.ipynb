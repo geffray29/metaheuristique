{
 "cells": [
  {
   "cell_type": "code",
   "execution_count": 1,
   "metadata": {},
   "outputs": [],
   "source": [
    "##metaheuristique\n",
    "import numpy as np\n",
    "import requests\n"
   ]
  },
  {
   "cell_type": "code",
   "execution_count": 6,
   "metadata": {},
   "outputs": [],
   "source": [
    "\n",
    "url = \"https://people.brunel.ac.uk/~mastjjb/jeb/orlib/files/mknap1.txt\"\n",
    "\n",
    "try:\n",
    "    response = requests.get(url)\n",
    "    response.raise_for_status()  # Vérifie qu'il n'y a pas d'erreur HTTP\n",
    "    contenu_texte = response.text\n",
    "    \n",
    "    with open(\"mknap1.txt\", \"w\") as fichier:\n",
    "            fichier.write(contenu_texte)\n",
    "\n",
    "except requests.exceptions.RequestException as e:\n",
    "    print(f\"Erreur lors de l'ouverture de l'URL : {e}\")"
   ]
  },
  {
   "cell_type": "code",
   "execution_count": 5,
   "metadata": {},
   "outputs": [],
   "source": [
    "base_url = \"https://people.brunel.ac.uk/~mastjjb/jeb/orlib/files/mknapcb\"\n",
    "\n",
    "\n",
    "for i in range(9):\n",
    "    url = base_url + str(i+1) + \".txt\"\n",
    "    try:\n",
    "        response = requests.get(url)\n",
    "        response.raise_for_status()  # Vérifie qu'il n'y a pas d'erreur HTTP\n",
    "        contenu_texte = response.text\n",
    "\n",
    "        with open(\"mknapcb\" + str(i+1) + \".txt\", \"w\") as fichier:\n",
    "            fichier.write(contenu_texte)\n",
    "\n",
    "\n",
    "    except requests.exceptions.RequestException as e:\n",
    "        print(f\"Erreur lors de l'ouverture de l'URL : {e}\")\n",
    "    \n",
    "    "
   ]
  },
  {
   "cell_type": "code",
   "execution_count": 83,
   "metadata": {},
   "outputs": [],
   "source": [
    "def extract_data(mon_fichier):\n",
    "    with open(mon_fichier, \"r\") as fichier:\n",
    "        contenu = fichier.read()\n",
    "        contenu = contenu.split()\n",
    "        #print(contenu)\n",
    "        nb_instances = int(contenu[0])\n",
    "        #print(nb_instances)\n",
    "        instances = {}\n",
    "        compteur = 1\n",
    "        for i in range(1,nb_instances):\n",
    "            elements = contenu[compteur:]\n",
    "            n  = int(elements[0])\n",
    "            #print(n)\n",
    "            m = int(elements[1])\n",
    "            #print(m)\n",
    "            val_opt = float(elements[2])\n",
    "            cost = np.array([float(elements[e]) for e in range(3,3+n)])\n",
    "            #print(cost)\n",
    "            a = np.array([int(elements[e]) for e in range(3+n,3+n+n*m)])\n",
    "            a = a.reshape(m,n)\n",
    "            b = np.array([int(elements[e]) for e in range(3+n*m,3+n*m+m)])\n",
    "            instances[i] = [n,m,val_opt,cost,a,b]\n",
    "            compteur += 3+n+m*n+m\n",
    "        return nb_instances, instances"
   ]
  },
  {
   "cell_type": "code",
   "execution_count": 93,
   "metadata": {},
   "outputs": [
    {
     "data": {
      "text/plain": [
       "100"
      ]
     },
     "execution_count": 93,
     "metadata": {},
     "output_type": "execute_result"
    }
   ],
   "source": [
    "mon_fichier = \"C:/Users/Thibaud/3A/metaheuristique/Data/mknapcb1.txt\"\n",
    "nb_instances, instances = extract_data(mon_fichier)\n",
    "\n",
    "a = instances[1][4]\n",
    "cost = instances[1][3]\n",
    "len(cost)\n"
   ]
  }
 ],
 "metadata": {
  "kernelspec": {
   "display_name": "Python 3",
   "language": "python",
   "name": "python3"
  },
  "language_info": {
   "codemirror_mode": {
    "name": "ipython",
    "version": 3
   },
   "file_extension": ".py",
   "mimetype": "text/x-python",
   "name": "python",
   "nbconvert_exporter": "python",
   "pygments_lexer": "ipython3",
   "version": "3.11.9"
  }
 },
 "nbformat": 4,
 "nbformat_minor": 2
}
